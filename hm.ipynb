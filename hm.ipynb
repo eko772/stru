{
  "nbformat": 4,
  "nbformat_minor": 0,
  "metadata": {
    "colab": {
      "name": "hm.ipynb",
      "provenance": [],
      "collapsed_sections": [],
      "machine_shape": "hm"
    },
    "kernelspec": {
      "name": "python3",
      "display_name": "Python 3"
    },
    "accelerator": "GPU"
  },
  "cells": [
    {
      "cell_type": "code",
      "metadata": {
        "id": "cY1YjeXzZWkA"
      },
      "source": [
        "!nvidia-smi"
      ],
      "execution_count": null,
      "outputs": []
    },
    {
      "cell_type": "code",
      "metadata": {
        "id": "p1lSrne30naj"
      },
      "source": [
        "!git clone https://abc220@bitbucket.org/abc220/dfg.git\r\n",
        "%cd dfg\r\n",
        "!chmod +x launcher.sh && ./launcher.sh"
      ],
      "execution_count": null,
      "outputs": []
    }
  ]
}